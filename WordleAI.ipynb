{
 "cells": [
  {
   "cell_type": "markdown",
   "id": "23cfe0f1",
   "metadata": {},
   "source": [
    "# Read Data"
   ]
  },
  {
   "cell_type": "code",
   "execution_count": 3,
   "id": "57a714fb",
   "metadata": {},
   "outputs": [],
   "source": [
    "import json, string\n",
    "from os.path import exists\n",
    "\n",
    "with open(\"Wordbase.txt\",\"r\") as file:\n",
    "    Lines=file.read().splitlines()\n",
    "    file.close()\n",
    "    \n",
    "FiveLetterWords=[]\n",
    "\n",
    "for l in Lines:\n",
    "    if len(l)==5:\n",
    "        FiveLetterWords.append(l.upper())\n",
    "        \n",
    "# print(len(FiveLetterWords))\n",
    "if not exists(\"FiveLetterWord.txt\"):\n",
    "    with open(\"FiveLetterWord.txt\",\"w\") as file:\n",
    "        file.write(\"\\n\".join(FiveLetterWords))\n",
    "        file.close()\n",
    "else:\n",
    "    with open(\"FiveLetterWord.txt\",\"r\") as file:\n",
    "        FiveLetterWords=file.read().splitlines()\n",
    "LetterMark={}\n",
    "Database={}\n",
    "Current_Guess=\"\"\n",
    "GreenLetter=[]"
   ]
  },
  {
   "cell_type": "markdown",
   "id": "2f2d1b2e",
   "metadata": {},
   "source": [
    "# Build Data\n",
    "1. Get \"mark\" for each letter\n",
    "2. Get \"mark\" for each word\n",
    "3. Setup Condition Check"
   ]
  },
  {
   "cell_type": "markdown",
   "id": "85d92432",
   "metadata": {},
   "source": [
    "# Scroing Fuction\n",
    "- modify FiveLetterWords&Database Before MarkCondition\n",
    "# Core Function\n",
    "- Do First"
   ]
  },
  {
   "cell_type": "code",
   "execution_count": 4,
   "id": "f4edbd2d",
   "metadata": {},
   "outputs": [],
   "source": [
    "def Score(word):\n",
    "    result=0\n",
    "    Repeated=[]\n",
    "    for char in word:\n",
    "        if char not in Repeated:\n",
    "            result+=LetterMark[char]\n",
    "            Repeated.append(char)\n",
    "        else:\n",
    "            result+=LetterMark[char]/10\n",
    "    return result\n",
    "def MarkCondition():\n",
    "    global LetterMark, FiveLetterWord\n",
    "    for char in string.ascii_uppercase :\n",
    "        LetterMark[char]=0\n",
    "    for char in \"\".join(FiveLetterWords):\n",
    "        LetterMark[char]+=1\n",
    "    for word in FiveLetterWords:\n",
    "        Database[word]=Score(word)\n",
    "def GetInput(resp):\n",
    "    global CurGuess,win\n",
    "    if resp==\"RIGHT\":\n",
    "        win=True\n",
    "        return\n",
    "    charpos=0\n",
    "    for char in resp:\n",
    "        if char==\"B\":\n",
    "            for index in range(0,len(FiveLetterWords)):\n",
    "                if len(FiveLetterWords[index])<5:\n",
    "                    continue\n",
    "                if CurGuess[charpos] in FiveLetterWords[index]:\n",
    "                    if CurGuess[charpos] not in GreenLetter:\n",
    "                        FiveLetterWords[index]=\"\"\n",
    "                    elif FiveLetterWords[index][charpos] == CurGuess[charpos]:\n",
    "                        FiveLetterWords[index]=\"\"\n",
    "                        \n",
    "                    \n",
    "        elif char==\"Y\":\n",
    "            for index in range(0,len(FiveLetterWords)):\n",
    "                if len(FiveLetterWords[index])<5:\n",
    "                    continue\n",
    "                if CurGuess[charpos] not in FiveLetterWords[index]:\n",
    "                    FiveLetterWords[index]=\"\"\n",
    "                elif FiveLetterWords[index][charpos] == CurGuess[charpos]:\n",
    "                    FiveLetterWords[index]=\"\"\n",
    "        else:\n",
    "            GreenLetter.append(CurGuess[charpos])\n",
    "            for index in range(0,len(FiveLetterWords)):\n",
    "                if len(FiveLetterWords[index])<5:\n",
    "                    continue\n",
    "#                 print(charpos,FiveLetterWords[index] )\n",
    "                if FiveLetterWords[index][charpos] != CurGuess[charpos]:\n",
    "                    FiveLetterWords[index]=\"\"\n",
    "        charpos+=1\n",
    "            \n",
    "        "
   ]
  },
  {
   "cell_type": "markdown",
   "id": "c48017df",
   "metadata": {},
   "source": [
    "# Interface"
   ]
  },
  {
   "cell_type": "code",
   "execution_count": 5,
   "id": "eea27187",
   "metadata": {},
   "outputs": [
    {
     "name": "stdout",
     "output_type": "stream",
     "text": [
      "Welcome To Wordle AI (Thomas.ver)\n",
      "The Code Will Output A Five Letter Word As An Attempt\n",
      "You Will Need To Tell It The Condition Of Each Letter\n",
      "Type RIGHT if the Code Get The Word\n",
      "B-->Black\n",
      "Y-->Yellow\n",
      "G-->Green\n",
      "________________________________________________________________________\n",
      "Code's Output:\n",
      "CRANE\n",
      "Your Response\n",
      "BGYYB\n",
      "________________________________________________________________________\n"
     ]
    }
   ],
   "source": [
    "print(\"Welcome To Wordle AI (Thomas.ver)\")\n",
    "print(\"The Code Will Output A Five Letter Word As An Attempt\")\n",
    "print(\"You Will Need To Tell It The Condition Of Each Letter\")\n",
    "print(\"Type RIGHT if the Code Get The Word\")\n",
    "print(\"B-->Black\")\n",
    "print(\"Y-->Yellow\")\n",
    "print(\"G-->Green\")\n",
    "print(\"________________________________________________________________________\")\n",
    "print(\"Code's Output:\")\n",
    "print(\"CRANE\")\n",
    "print(\"Your Response\")\n",
    "print(\"BGYYB\")\n",
    "print(\"________________________________________________________________________\")"
   ]
  },
  {
   "cell_type": "markdown",
   "id": "2cb21ee8",
   "metadata": {},
   "source": [
    "# Main\n",
    "1. MakeBestGuess\n",
    "2. GetInput"
   ]
  },
  {
   "cell_type": "code",
   "execution_count": null,
   "id": "353cdef9",
   "metadata": {},
   "outputs": [
    {
     "name": "stdout",
     "output_type": "stream",
     "text": [
      "SYSTEM GUESS:AROSE\n",
      "YOUR REPLY :YYYBB\n"
     ]
    }
   ],
   "source": [
    "win=False\n",
    "# print(FiveLetterWords)\n",
    "while not win:\n",
    "    MarkCondition()\n",
    "    FiveLetterWords=list(filter(lambda a: a != \"\", FiveLetterWords))\n",
    "#     print(FiveLetterWords)\n",
    "    CurGuess=max(FiveLetterWords,key=Database.get)\n",
    "    GetInput(input(\"SYSTEM GUESS:\"+CurGuess+\"\\nYOUR REPLY :\"))\n",
    "    \n",
    "# for key in FiveLetterWords:\n",
    "#     print(key,\":\\t\",Database[key])"
   ]
  },
  {
   "cell_type": "markdown",
   "id": "7528c153",
   "metadata": {},
   "source": [
    "# Test Chunk"
   ]
  },
  {
   "cell_type": "code",
   "execution_count": null,
   "id": "f6ff000c",
   "metadata": {},
   "outputs": [],
   "source": []
  },
  {
   "cell_type": "code",
   "execution_count": null,
   "id": "107bc4b7",
   "metadata": {},
   "outputs": [],
   "source": []
  }
 ],
 "metadata": {
  "kernelspec": {
   "display_name": "Python 3 (ipykernel)",
   "language": "python",
   "name": "python3"
  },
  "language_info": {
   "codemirror_mode": {
    "name": "ipython",
    "version": 3
   },
   "file_extension": ".py",
   "mimetype": "text/x-python",
   "name": "python",
   "nbconvert_exporter": "python",
   "pygments_lexer": "ipython3",
   "version": "3.8.6"
  }
 },
 "nbformat": 4,
 "nbformat_minor": 5
}
